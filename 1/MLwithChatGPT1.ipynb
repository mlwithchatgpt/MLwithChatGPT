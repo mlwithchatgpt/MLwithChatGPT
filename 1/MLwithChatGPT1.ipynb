{
  "nbformat": 4,
  "nbformat_minor": 0,
  "metadata": {
    "colab": {
      "provenance": []
    },
    "kernelspec": {
      "name": "python3",
      "display_name": "Python 3"
    },
    "language_info": {
      "name": "python"
    }
  },
  "cells": [
    {
      "cell_type": "markdown",
      "source": [
        "# FeedForward Neural Network\n",
        "\n",
        "\\begin{align*}\n",
        "\\text{Input Layer} \\quad (l &= 1): \\\\\n",
        "a^{(1)} &= x \\\\\n",
        "\\\\\n",
        "\\text{Hidden Layers} \\quad (l &= 2, 3, \\ldots, L-1): \\\\\n",
        "z^{(l)} &= W^{(l)} a^{(l-1)} + b^{(l)} \\\\\n",
        "a^{(l)} &= f^{(l)}(z^{(l)}) \\\\\n",
        "\\\\\n",
        "\\text{Output Layer} \\quad (l &= L): \\\\\n",
        "z^{(L)} &= W^{(L)} a^{(L-1)} + b^{(L)} \\\\\n",
        "\\hat{y} &= a^{(L)} = f^{(L)}(z^{(L)})\n",
        "\\end{align*}\n"
      ],
      "metadata": {
        "id": "9c55vuml-Py0"
      }
    },
    {
      "cell_type": "code",
      "source": [
        "import torch\n",
        "import torch.nn as nn\n",
        "import torch.optim as optim\n",
        "\n",
        "# Define the architecture of the one-layer feedforward neural network\n",
        "class OneLayerNN(nn.Module):\n",
        "    def __init__(self, input_size, output_size):\n",
        "        super(OneLayerNN, self).__init__()\n",
        "        self.fc = nn.Linear(input_size, output_size)  # Fully connected layer\n",
        "\n",
        "    def forward(self, x):\n",
        "        x = self.fc(x)\n",
        "        return x\n",
        "\n",
        "# Example usage\n",
        "if __name__ == \"__main__\":\n",
        "    # Define input and output sizes\n",
        "    input_size = 10\n",
        "    output_size = 20\n",
        "\n",
        "    # Create an instance of the one-layer feedforward neural network\n",
        "    model = OneLayerNN(input_size, output_size)\n",
        "\n",
        "    # Define some input data (batch size of 1 for simplicity)\n",
        "    input_data = torch.randn(1, input_size)\n",
        "\n",
        "    # Perform forward pass\n",
        "    output = model(input_data)\n",
        "\n",
        "    print(\"Output:\", output)\n"
      ],
      "metadata": {
        "colab": {
          "base_uri": "https://localhost:8080/"
        },
        "id": "zmdcTGMe-TSN",
        "outputId": "24dab442-f4a1-4d47-a6e6-ed9e533cd04e"
      },
      "execution_count": 1,
      "outputs": [
        {
          "output_type": "stream",
          "name": "stdout",
          "text": [
            "Output: tensor([[-0.1021,  0.0580, -0.2614,  0.5490,  0.1675,  0.3489,  0.3475,  0.1543,\n",
            "         -0.9033,  0.0632, -0.2966, -0.2084, -0.5957,  0.4958, -0.0149,  0.4346,\n",
            "          0.1016, -0.1424, -0.4270, -0.5088]], grad_fn=<AddmmBackward0>)\n"
          ]
        }
      ]
    },
    {
      "cell_type": "code",
      "source": [
        "total_params = sum(p.numel() for p in model.parameters())\n",
        "print(\"Total number of parameters:\", total_params)\n"
      ],
      "metadata": {
        "colab": {
          "base_uri": "https://localhost:8080/"
        },
        "id": "YqK9oF5R-cpD",
        "outputId": "ba74061c-9993-4ab4-c6d6-93b527c4e6ec"
      },
      "execution_count": 2,
      "outputs": [
        {
          "output_type": "stream",
          "name": "stdout",
          "text": [
            "Total number of parameters: 220\n"
          ]
        }
      ]
    },
    {
      "cell_type": "code",
      "source": [
        "import torch\n",
        "import torch.nn as nn\n",
        "import torchvision\n",
        "import torchvision.transforms as transforms\n",
        "import torch.optim as optim\n",
        "\n",
        "# Device configuration\n",
        "device = torch.device('cuda' if torch.cuda.is_available() else 'cpu')\n",
        "\n",
        "# Hyperparameters\n",
        "input_size = 784  # 28x28 = 784, flattened input image\n",
        "num_classes = 10\n",
        "num_epochs = 5\n",
        "batch_size = 100\n",
        "learning_rate = 0.001\n",
        "\n",
        "# MNIST dataset\n",
        "train_dataset = torchvision.datasets.MNIST(root='./data',\n",
        "                                           train=True,\n",
        "                                           transform=transforms.ToTensor(),\n",
        "                                           download=True)\n",
        "\n",
        "test_dataset = torchvision.datasets.MNIST(root='./data',\n",
        "                                          train=False,\n",
        "                                          transform=transforms.ToTensor())\n",
        "\n",
        "# Data loader\n",
        "train_loader = torch.utils.data.DataLoader(dataset=train_dataset,\n",
        "                                           batch_size=batch_size,\n",
        "                                           shuffle=True)\n",
        "\n",
        "test_loader = torch.utils.data.DataLoader(dataset=test_dataset,\n",
        "                                          batch_size=batch_size,\n",
        "                                          shuffle=False)\n",
        "\n",
        "# One-layer neural network model\n",
        "class OneLayerNN(nn.Module):\n",
        "    def __init__(self, input_size, num_classes):\n",
        "        super(OneLayerNN, self).__init__()\n",
        "        self.fc = nn.Linear(input_size, num_classes)\n",
        "\n",
        "    def forward(self, x):\n",
        "        x = x.view(x.size(0), -1)  # Flatten the input image\n",
        "        out = self.fc(x)\n",
        "        return out\n",
        "\n",
        "# Initialize the model\n",
        "model = OneLayerNN(input_size, num_classes).to(device)\n",
        "\n"
      ],
      "metadata": {
        "id": "KH5V4kcl-2N6"
      },
      "execution_count": 3,
      "outputs": []
    },
    {
      "cell_type": "code",
      "source": [
        "import matplotlib.pyplot as plt\n",
        "import numpy as np\n",
        "\n",
        "num_samples = 5\n",
        "random_indices = np.random.randint(len(train_dataset), size=num_samples)\n",
        "\n",
        "# Plot the samples\n",
        "fig, axes = plt.subplots(1, num_samples, figsize=(10, 2))\n",
        "\n",
        "for i, idx in enumerate(random_indices):\n",
        "    image, label = train_dataset[idx]\n",
        "    axes[i].imshow(image.squeeze().numpy(), cmap='gray')\n",
        "    axes[i].set_title('Label: {}'.format(label))\n",
        "    axes[i].axis('off')\n",
        "\n",
        "plt.show()\n"
      ],
      "metadata": {
        "colab": {
          "base_uri": "https://localhost:8080/",
          "height": 192
        },
        "id": "YzojTV-x_C7L",
        "outputId": "fc567ac9-f460-4024-a2ae-68453c29d3bf"
      },
      "execution_count": 4,
      "outputs": [
        {
          "output_type": "display_data",
          "data": {
            "text/plain": [
              "<Figure size 1000x200 with 5 Axes>"
            ],
            "image/png": "[encoded data removed]"
          },
          "metadata": {}
        }
      ]
    },
    {
      "cell_type": "code",
      "source": [],
      "metadata": {
        "id": "_Im6xeXj-9Ws"
      },
      "execution_count": 4,
      "outputs": []
    },
    {
      "cell_type": "code",
      "source": [
        "# Loss and optimizer\n",
        "criterion = nn.CrossEntropyLoss()\n",
        "optimizer = optim.Adam(model.parameters(), lr=learning_rate)\n",
        "\n",
        "# Training the model\n",
        "total_step = len(train_loader)\n",
        "for epoch in range(num_epochs):\n",
        "    for i, (images, labels) in enumerate(train_loader):\n",
        "        images = images.to(device)\n",
        "        labels = labels.to(device)\n",
        "\n",
        "        # Forward pass\n",
        "        outputs = model(images)\n",
        "        loss = criterion(outputs, labels)\n",
        "\n",
        "        # Backward and optimize\n",
        "        optimizer.zero_grad()\n",
        "        loss.backward()\n",
        "        optimizer.step()\n",
        "\n",
        "        if (i+1) % 100 == 0:\n",
        "            print ('Epoch [{}/{}], Step [{}/{}], Loss: {:.4f}'\n",
        "                   .format(epoch+1, num_epochs, i+1, total_step, loss.item()))\n",
        "\n"
      ],
      "metadata": {
        "colab": {
          "base_uri": "https://localhost:8080/"
        },
        "id": "1g0zFrA7-7e5",
        "outputId": "00d03475-f571-4fbb-d03f-77c7e79b559b"
      },
      "execution_count": 5,
      "outputs": [
        {
          "output_type": "stream",
          "name": "stdout",
          "text": [
            "Epoch [1/5], Step [100/600], Loss: 0.7832\n",
            "Epoch [1/5], Step [200/600], Loss: 0.5741\n",
            "Epoch [1/5], Step [300/600], Loss: 0.4599\n",
            "Epoch [1/5], Step [400/600], Loss: 0.4176\n",
            "Epoch [1/5], Step [500/600], Loss: 0.4179\n",
            "Epoch [1/5], Step [600/600], Loss: 0.4531\n",
            "Epoch [2/5], Step [100/600], Loss: 0.2875\n",
            "Epoch [2/5], Step [200/600], Loss: 0.4429\n",
            "Epoch [2/5], Step [300/600], Loss: 0.3340\n",
            "Epoch [2/5], Step [400/600], Loss: 0.2901\n",
            "Epoch [2/5], Step [500/600], Loss: 0.3567\n",
            "Epoch [2/5], Step [600/600], Loss: 0.2418\n",
            "Epoch [3/5], Step [100/600], Loss: 0.4628\n",
            "Epoch [3/5], Step [200/600], Loss: 0.2397\n",
            "Epoch [3/5], Step [300/600], Loss: 0.3857\n",
            "Epoch [3/5], Step [400/600], Loss: 0.3552\n",
            "Epoch [3/5], Step [500/600], Loss: 0.4305\n",
            "Epoch [3/5], Step [600/600], Loss: 0.1911\n",
            "Epoch [4/5], Step [100/600], Loss: 0.2794\n",
            "Epoch [4/5], Step [200/600], Loss: 0.4188\n",
            "Epoch [4/5], Step [300/600], Loss: 0.4213\n",
            "Epoch [4/5], Step [400/600], Loss: 0.3870\n",
            "Epoch [4/5], Step [500/600], Loss: 0.2308\n",
            "Epoch [4/5], Step [600/600], Loss: 0.3631\n",
            "Epoch [5/5], Step [100/600], Loss: 0.3663\n",
            "Epoch [5/5], Step [200/600], Loss: 0.4808\n",
            "Epoch [5/5], Step [300/600], Loss: 0.3231\n",
            "Epoch [5/5], Step [400/600], Loss: 0.2950\n",
            "Epoch [5/5], Step [500/600], Loss: 0.2458\n",
            "Epoch [5/5], Step [600/600], Loss: 0.3344\n"
          ]
        }
      ]
    },
    {
      "cell_type": "code",
      "source": [
        "outputs.shape"
      ],
      "metadata": {
        "colab": {
          "base_uri": "https://localhost:8080/"
        },
        "id": "rarDNw9SAK34",
        "outputId": "af8de628-fb2c-4841-c6a4-69364befbe1e"
      },
      "execution_count": 8,
      "outputs": [
        {
          "output_type": "execute_result",
          "data": {
            "text/plain": [
              "torch.Size([100, 10])"
            ]
          },
          "metadata": {},
          "execution_count": 8
        }
      ]
    },
    {
      "cell_type": "code",
      "source": [
        "# Test the model\n",
        "model.eval()  # eval mode (batchnorm uses moving mean/variance instead of mini-batch mean/variance)\n",
        "with torch.no_grad():\n",
        "    correct = 0\n",
        "    total = 0\n",
        "    for images, labels in test_loader:\n",
        "        images = images.to(device)\n",
        "        labels = labels.to(device)\n",
        "        outputs = model(images)\n",
        "        _, predicted = torch.max(outputs.data, 1)\n",
        "        total += labels.size(0)\n",
        "        correct += (predicted == labels).sum().item()\n",
        "\n",
        "    print('Accuracy of the network on the 10000 test images: {} %'.format(100 * correct / total))\n"
      ],
      "metadata": {
        "colab": {
          "base_uri": "https://localhost:8080/"
        },
        "id": "fl_E1pRn_-Uw",
        "outputId": "fbdc969d-433d-4135-c777-14d1de8df146"
      },
      "execution_count": 7,
      "outputs": [
        {
          "output_type": "stream",
          "name": "stdout",
          "text": [
            "Accuracy of the network on the 10000 test images: 92.34 %\n"
          ]
        }
      ]
    },
    {
      "cell_type": "code",
      "source": [
        "# Visualize the test dataset\n",
        "import matplotlib.pyplot as plt\n",
        "import numpy as np\n",
        "\n",
        "num_samples = 5\n",
        "random_indices = np.random.randint(len(images), size=num_samples)\n",
        "\n",
        "# Plot the samples\n",
        "fig, axes = plt.subplots(1, num_samples, figsize=(10, 2))\n",
        "\n",
        "for i, idx in enumerate(random_indices):\n",
        "    image = images[idx]\n",
        "    axes[i].imshow(image.squeeze().numpy(), cmap='gray')\n",
        "    axes[i].set_title('Label: {}'.format(predicted[idx]))\n",
        "    axes[i].axis('off')\n",
        "\n",
        "plt.show()\n"
      ],
      "metadata": {
        "colab": {
          "base_uri": "https://localhost:8080/",
          "height": 192
        },
        "id": "r8wsodMJLywE",
        "outputId": "b2b943cb-62a0-48d0-f996-c5205674da81"
      },
      "execution_count": 18,
      "outputs": [
        {
          "output_type": "display_data",
          "data": {
            "text/plain": [
              "<Figure size 1000x200 with 5 Axes>"
            ],
            "image/png": "[encoded data removed]"
          },
          "metadata": {}
        }
      ]
    },
    {
      "cell_type": "code",
      "source": [],
      "metadata": {
        "id": "YtiA8C86MINd"
      },
      "execution_count": null,
      "outputs": []
    }
  ]
}
